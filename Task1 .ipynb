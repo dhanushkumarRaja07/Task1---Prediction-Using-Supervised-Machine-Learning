{
 "cells": [
  {
   "cell_type": "markdown",
   "id": "9ca51ddd",
   "metadata": {},
   "source": [
    "## DHANUSHKUMAR R"
   ]
  },
  {
   "cell_type": "markdown",
   "id": "72990c65",
   "metadata": {},
   "source": [
    "## Internship @The Sparks Foundation !! Data Science & Business Analytics"
   ]
  },
  {
   "cell_type": "markdown",
   "id": "e2b69750",
   "metadata": {},
   "source": [
    "# Task1 - Prediction Using Supervised Machine Learning "
   ]
  },
  {
   "cell_type": "markdown",
   "id": "479a757e",
   "metadata": {},
   "source": [
    "## Batch - June 2023"
   ]
  },
  {
   "cell_type": "markdown",
   "id": "2f0d34fb",
   "metadata": {},
   "source": [
    "# Importing modules "
   ]
  },
  {
   "cell_type": "code",
   "execution_count": 46,
   "id": "ed12cb23",
   "metadata": {},
   "outputs": [],
   "source": [
    "import numpy as np\n",
    "import pandas as pd\n",
    "import matplotlib.pyplot as plt\n",
    "from sklearn.model_selection import train_test_split"
   ]
  },
  {
   "cell_type": "markdown",
   "id": "6006cead",
   "metadata": {},
   "source": [
    "## Implementing the Linear Regression"
   ]
  },
  {
   "cell_type": "code",
   "execution_count": 55,
   "id": "fca1010c",
   "metadata": {},
   "outputs": [],
   "source": [
    "class LinearRegression:\n",
    "    def fit(self,X,y):\n",
    "        m = X.shape[0]\n",
    "        X_mean, y_mean = np.mean(X), np.mean(y)\n",
    "        X_mean_diff, y_mean_diff = X-X_mean, y-y_mean\n",
    "        self.b1 = (X_mean_diff @ y_mean_diff) / (X_mean_diff @ X_mean_diff)\n",
    "        self.b0 = y_mean - (self.b1 * X_mean)\n",
    "        return self\n",
    "    \n",
    "    def predict(self,X):\n",
    "        return self.b0 + X*self.b1\n",
    "\n",
    "    def evaluate(self,x,y):\n",
    "        y_pred = self.predict(x)\n",
    "        y_diff = y-y_pred\n",
    "        rmse = np.sqrt(y_diff @ y_diff/x.shape[0])\n",
    "        print(\"RMSE:\",rmse)\n",
    "        "
   ]
  },
  {
   "cell_type": "markdown",
   "id": "a00c9a62",
   "metadata": {},
   "source": [
    "# Ploting function for regression"
   ]
  },
  {
   "cell_type": "code",
   "execution_count": 81,
   "id": "dde0a27b",
   "metadata": {},
   "outputs": [],
   "source": [
    "def regression_plot(X,y,model,title=\"\"):\n",
    "    \n",
    "    plt.figure(figsize=(6,7))\n",
    "    plt.xlim(1,10)\n",
    "    plt.ylim(20,100)\n",
    "    plt.xlabel(\"Hours\")\n",
    "    plt.ylabel(\"Scores\")\n",
    "    \n",
    "    x_line = np.array([np.min(X) - 100,np.max(X) + 100]).reshape(-1,1)\n",
    "    y_line = model.predict(x_line)\n",
    "    \n",
    "    plt.scatter(X, y,c='red', label='Original Data Points')\n",
    "    plt.plot(x_line, y_line,linewidth=4, label='Regression Line')\n",
    "    plt.legend()"
   ]
  },
  {
   "cell_type": "markdown",
   "id": "ad69b6b1",
   "metadata": {},
   "source": [
    "##  Loading and processing the dataset "
   ]
  },
  {
   "cell_type": "code",
   "execution_count": 64,
   "id": "25978222",
   "metadata": {},
   "outputs": [
    {
     "data": {
      "text/html": [
       "<div>\n",
       "<style scoped>\n",
       "    .dataframe tbody tr th:only-of-type {\n",
       "        vertical-align: middle;\n",
       "    }\n",
       "\n",
       "    .dataframe tbody tr th {\n",
       "        vertical-align: top;\n",
       "    }\n",
       "\n",
       "    .dataframe thead th {\n",
       "        text-align: right;\n",
       "    }\n",
       "</style>\n",
       "<table border=\"1\" class=\"dataframe\">\n",
       "  <thead>\n",
       "    <tr style=\"text-align: right;\">\n",
       "      <th></th>\n",
       "      <th>Hours</th>\n",
       "      <th>Scores</th>\n",
       "    </tr>\n",
       "  </thead>\n",
       "  <tbody>\n",
       "    <tr>\n",
       "      <th>0</th>\n",
       "      <td>2.5</td>\n",
       "      <td>21</td>\n",
       "    </tr>\n",
       "    <tr>\n",
       "      <th>1</th>\n",
       "      <td>5.1</td>\n",
       "      <td>47</td>\n",
       "    </tr>\n",
       "    <tr>\n",
       "      <th>2</th>\n",
       "      <td>3.2</td>\n",
       "      <td>27</td>\n",
       "    </tr>\n",
       "    <tr>\n",
       "      <th>3</th>\n",
       "      <td>8.5</td>\n",
       "      <td>75</td>\n",
       "    </tr>\n",
       "    <tr>\n",
       "      <th>4</th>\n",
       "      <td>3.5</td>\n",
       "      <td>30</td>\n",
       "    </tr>\n",
       "  </tbody>\n",
       "</table>\n",
       "</div>"
      ],
      "text/plain": [
       "   Hours  Scores\n",
       "0    2.5      21\n",
       "1    5.1      47\n",
       "2    3.2      27\n",
       "3    8.5      75\n",
       "4    3.5      30"
      ]
     },
     "execution_count": 64,
     "metadata": {},
     "output_type": "execute_result"
    }
   ],
   "source": [
    "url = \"http://bit.ly/w-data\"\n",
    "data = pd.read_csv(url)\n",
    "data.head()\n",
    "     "
   ]
  },
  {
   "cell_type": "markdown",
   "id": "5ff5cf17",
   "metadata": {},
   "source": [
    "## Ploting distribution for scores"
   ]
  },
  {
   "cell_type": "code",
   "execution_count": 76,
   "id": "a01e944e",
   "metadata": {},
   "outputs": [
    {
     "data": {
      "image/png": "[encoded data removed]",
      "text/plain": [
       "<Figure size 432x288 with 1 Axes>"
      ]
     },
     "metadata": {
      "needs_background": "light"
     },
     "output_type": "display_data"
    }
   ],
   "source": [
    "data.plot(x='Hours', y='Scores', style='o',c = 'red')  \n",
    "plt.title('Hours vs Scores')  \n",
    "plt.xlabel('Hours Studied')  \n",
    "plt.ylabel('Score')  \n",
    "plt.show()"
   ]
  },
  {
   "cell_type": "markdown",
   "id": "42e5c4e2",
   "metadata": {},
   "source": [
    "## Implementing the linear Regression using Scratch"
   ]
  },
  {
   "cell_type": "code",
   "execution_count": 82,
   "id": "e4a65995",
   "metadata": {},
   "outputs": [
    {
     "data": {
      "image/png": "[encoded data removed]",
      "text/plain": [
       "<Figure size 432x504 with 1 Axes>"
      ]
     },
     "metadata": {
      "needs_background": "light"
     },
     "output_type": "display_data"
    }
   ],
   "source": [
    "\n",
    "x = data['Hours'].values\n",
    "y = data['Scores'].values\n",
    "x_train,x_test,y_train,y_test = train_test_split(x,y,test_size=0.2)\n",
    "model = LinearRegression()\n",
    "model.fit(x_train,y_train)\n",
    "regression_plot(x,y,model,title = 'Trained Regression model')\n"
   ]
  },
  {
   "cell_type": "markdown",
   "id": "d664e34b",
   "metadata": {},
   "source": [
    "## Testing the model"
   ]
  },
  {
   "cell_type": "code",
   "execution_count": 78,
   "id": "4b0c7595",
   "metadata": {},
   "outputs": [
    {
     "data": {
      "text/html": [
       "<div>\n",
       "<style scoped>\n",
       "    .dataframe tbody tr th:only-of-type {\n",
       "        vertical-align: middle;\n",
       "    }\n",
       "\n",
       "    .dataframe tbody tr th {\n",
       "        vertical-align: top;\n",
       "    }\n",
       "\n",
       "    .dataframe thead th {\n",
       "        text-align: right;\n",
       "    }\n",
       "</style>\n",
       "<table border=\"1\" class=\"dataframe\">\n",
       "  <thead>\n",
       "    <tr style=\"text-align: right;\">\n",
       "      <th></th>\n",
       "      <th>Actual</th>\n",
       "      <th>Predicted</th>\n",
       "    </tr>\n",
       "  </thead>\n",
       "  <tbody>\n",
       "    <tr>\n",
       "      <th>0</th>\n",
       "      <td>75</td>\n",
       "      <td>87.016872</td>\n",
       "    </tr>\n",
       "    <tr>\n",
       "      <th>1</th>\n",
       "      <td>88</td>\n",
       "      <td>94.046708</td>\n",
       "    </tr>\n",
       "    <tr>\n",
       "      <th>2</th>\n",
       "      <td>25</td>\n",
       "      <td>28.769654</td>\n",
       "    </tr>\n",
       "    <tr>\n",
       "      <th>3</th>\n",
       "      <td>60</td>\n",
       "      <td>56.889001</td>\n",
       "    </tr>\n",
       "    <tr>\n",
       "      <th>4</th>\n",
       "      <td>85</td>\n",
       "      <td>78.982773</td>\n",
       "    </tr>\n",
       "  </tbody>\n",
       "</table>\n",
       "</div>"
      ],
      "text/plain": [
       "   Actual  Predicted\n",
       "0      75  87.016872\n",
       "1      88  94.046708\n",
       "2      25  28.769654\n",
       "3      60  56.889001\n",
       "4      85  78.982773"
      ]
     },
     "execution_count": 78,
     "metadata": {},
     "output_type": "execute_result"
    }
   ],
   "source": [
    "\n",
    "y_pred = model.predict(x_test)\n",
    "testing = pd.DataFrame({\"Actual\":y_test ,\"Predicted\":y_pred})\n",
    "testing\n"
   ]
  },
  {
   "cell_type": "markdown",
   "id": "d1ff5b90",
   "metadata": {},
   "source": [
    "## Testing the model with study hour '9.25' per day"
   ]
  },
  {
   "cell_type": "code",
   "execution_count": 79,
   "id": "1068668c",
   "metadata": {
    "scrolled": true
   },
   "outputs": [
    {
     "name": "stdout",
     "output_type": "stream",
     "text": [
      "Spending 9.25 hours per day will make a student able to score 94.55%\n",
      "RMSE: 5.438453344813319\n"
     ]
    }
   ],
   "source": [
    "hours = 9.25\n",
    "test = model.predict(hours)\n",
    "print(f\"Spending 9.25 hours per day will make a student able to score {test:.2f}%\")\n",
    "Evaluate = model.evaluate(x,y)\n"
   ]
  },
  {
   "cell_type": "code",
   "execution_count": null,
   "id": "805abc56",
   "metadata": {},
   "outputs": [],
   "source": []
  }
 ],
 "metadata": {
  "kernelspec": {
   "display_name": "Python 3 (ipykernel)",
   "language": "python",
   "name": "python3"
  },
  "language_info": {
   "codemirror_mode": {
    "name": "ipython",
    "version": 3
   },
   "file_extension": ".py",
   "mimetype": "text/x-python",
   "name": "python",
   "nbconvert_exporter": "python",
   "pygments_lexer": "ipython3",
   "version": "3.9.12"
  }
 },
 "nbformat": 4,
 "nbformat_minor": 5
}
